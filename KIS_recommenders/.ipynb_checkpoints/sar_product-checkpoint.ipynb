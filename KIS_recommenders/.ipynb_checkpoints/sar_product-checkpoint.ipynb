{
 "cells": [
  {
   "cell_type": "markdown",
   "metadata": {},
   "source": [
    "## Import"
   ]
  },
  {
   "cell_type": "code",
   "execution_count": 1,
   "metadata": {},
   "outputs": [
    {
     "name": "stdout",
     "output_type": "stream",
     "text": [
      "System version: 3.9.13 (main, Aug 25 2022, 23:51:50) [MSC v.1916 64 bit (AMD64)]\n",
      "Pandas version: 1.4.4\n"
     ]
    }
   ],
   "source": [
    "# set the environment path to find Recommenders\n",
    "import sys\n",
    "\n",
    "import itertools\n",
    "import logging\n",
    "import os\n",
    "\n",
    "import numpy as np\n",
    "import pandas as pd\n",
    "import papermill as pm\n",
    "\n",
    "from recommenders.datasets import movielens\n",
    "from recommenders.datasets.python_splitters import python_stratified_split\n",
    "from recommenders.evaluation.python_evaluation import map_at_k, ndcg_at_k, precision_at_k, recall_at_k, logloss\n",
    "from recommenders.models.sar import SAR\n",
    "\n",
    "print(\"System version: {}\".format(sys.version))\n",
    "print(\"Pandas version: {}\".format(pd.__version__))"
   ]
  },
  {
   "cell_type": "code",
   "execution_count": 2,
   "metadata": {
    "tags": [
     "parameters"
    ]
   },
   "outputs": [],
   "source": [
    "# top k items to recommend\n",
    "TOP_K = 10"
   ]
  },
  {
   "cell_type": "code",
   "execution_count": null,
   "metadata": {},
   "outputs": [],
   "source": []
  },
  {
   "cell_type": "markdown",
   "metadata": {},
   "source": [
    "## Load data"
   ]
  },
  {
   "cell_type": "code",
   "execution_count": 3,
   "metadata": {},
   "outputs": [
    {
     "data": {
      "text/plain": [
       "'C:\\\\Users\\\\Administrator\\\\Documents\\\\GitHub\\\\recommender_systems\\\\KIS_recommenders'"
      ]
     },
     "execution_count": 3,
     "metadata": {},
     "output_type": "execute_result"
    }
   ],
   "source": [
    "os.getcwd()"
   ]
  },
  {
   "cell_type": "code",
   "execution_count": 4,
   "metadata": {},
   "outputs": [],
   "source": [
    "data_path = os.getcwd() + \"\\\\datasets\\\\\""
   ]
  },
  {
   "cell_type": "code",
   "execution_count": 5,
   "metadata": {},
   "outputs": [],
   "source": [
    "sheet_1 = pd.read_excel(data_path + 'recommender_base.xlsx', sheet_name = 0)\n",
    "sheet_2 = pd.read_excel(data_path + 'recommender_base.xlsx', sheet_name = 1)\n",
    "\n",
    "reco = pd.concat([sheet_1, sheet_2])\n",
    "del sheet_1, sheet_2"
   ]
  },
  {
   "cell_type": "code",
   "execution_count": null,
   "metadata": {},
   "outputs": [],
   "source": []
  },
  {
   "cell_type": "markdown",
   "metadata": {},
   "source": [
    "* get rating"
   ]
  },
  {
   "cell_type": "code",
   "execution_count": 6,
   "metadata": {},
   "outputs": [],
   "source": [
    "def portion(x):\n",
    "    return x / x.sum()"
   ]
  },
  {
   "cell_type": "code",
   "execution_count": 7,
   "metadata": {},
   "outputs": [],
   "source": [
    "sum_df = pd.DataFrame(reco.groupby(['FAKE_CANO'])['CNT'].sum()).reset_index()\n",
    "sum_df.columns = ['FAKE_CANO', 'TOT']"
   ]
  },
  {
   "cell_type": "code",
   "execution_count": 8,
   "metadata": {},
   "outputs": [],
   "source": [
    "reco = pd.merge(reco, sum_df, on = 'FAKE_CANO', how = 'inner')\n",
    "reco['Rating'] = reco['CNT'] / reco['TOT']"
   ]
  },
  {
   "cell_type": "code",
   "execution_count": 9,
   "metadata": {},
   "outputs": [],
   "source": [
    "reco['Rating'] = reco['Rating'].astype(np.float32)"
   ]
  },
  {
   "cell_type": "code",
   "execution_count": 10,
   "metadata": {},
   "outputs": [
    {
     "data": {
      "text/html": [
       "<div>\n",
       "<style scoped>\n",
       "    .dataframe tbody tr th:only-of-type {\n",
       "        vertical-align: middle;\n",
       "    }\n",
       "\n",
       "    .dataframe tbody tr th {\n",
       "        vertical-align: top;\n",
       "    }\n",
       "\n",
       "    .dataframe thead th {\n",
       "        text-align: right;\n",
       "    }\n",
       "</style>\n",
       "<table border=\"1\" class=\"dataframe\">\n",
       "  <thead>\n",
       "    <tr style=\"text-align: right;\">\n",
       "      <th></th>\n",
       "      <th>FAKE_CANO</th>\n",
       "      <th>PRDT_TYPE_CD</th>\n",
       "      <th>CATEGORY</th>\n",
       "      <th>CNT</th>\n",
       "      <th>TOT</th>\n",
       "      <th>Rating</th>\n",
       "    </tr>\n",
       "  </thead>\n",
       "  <tbody>\n",
       "    <tr>\n",
       "      <th>0</th>\n",
       "      <td>753457</td>\n",
       "      <td>300</td>\n",
       "      <td>주식</td>\n",
       "      <td>64</td>\n",
       "      <td>77</td>\n",
       "      <td>0.831169</td>\n",
       "    </tr>\n",
       "    <tr>\n",
       "      <th>1</th>\n",
       "      <td>753457</td>\n",
       "      <td>512</td>\n",
       "      <td>해외주식-NASD</td>\n",
       "      <td>5</td>\n",
       "      <td>77</td>\n",
       "      <td>0.064935</td>\n",
       "    </tr>\n",
       "    <tr>\n",
       "      <th>2</th>\n",
       "      <td>753457</td>\n",
       "      <td>513</td>\n",
       "      <td>해외주식-NYSE</td>\n",
       "      <td>4</td>\n",
       "      <td>77</td>\n",
       "      <td>0.051948</td>\n",
       "    </tr>\n",
       "    <tr>\n",
       "      <th>3</th>\n",
       "      <td>753457</td>\n",
       "      <td>529</td>\n",
       "      <td>해외주식-AMEX</td>\n",
       "      <td>4</td>\n",
       "      <td>77</td>\n",
       "      <td>0.051948</td>\n",
       "    </tr>\n",
       "    <tr>\n",
       "      <th>4</th>\n",
       "      <td>754560</td>\n",
       "      <td>200</td>\n",
       "      <td>신탁</td>\n",
       "      <td>76</td>\n",
       "      <td>162</td>\n",
       "      <td>0.469136</td>\n",
       "    </tr>\n",
       "  </tbody>\n",
       "</table>\n",
       "</div>"
      ],
      "text/plain": [
       "   FAKE_CANO  PRDT_TYPE_CD   CATEGORY  CNT  TOT    Rating\n",
       "0     753457           300         주식   64   77  0.831169\n",
       "1     753457           512  해외주식-NASD    5   77  0.064935\n",
       "2     753457           513  해외주식-NYSE    4   77  0.051948\n",
       "3     753457           529  해외주식-AMEX    4   77  0.051948\n",
       "4     754560           200         신탁   76  162  0.469136"
      ]
     },
     "execution_count": 10,
     "metadata": {},
     "output_type": "execute_result"
    }
   ],
   "source": [
    "reco.head()"
   ]
  },
  {
   "cell_type": "markdown",
   "metadata": {},
   "source": [
    "### 3.2 Split the data using the python random splitter provided in utilities:\n",
    "\n",
    "We split the full dataset into a `train` and `test` dataset to evaluate performance of the algorithm against a held-out set not seen during training. Because SAR generates recommendations based on user preferences, all users that are in the test set must also exist in the training set. For this case, we can use the provided `python_stratified_split` function which holds out a percentage (in this case 25%) of items from each user, but ensures all users are in both `train` and `test` datasets. Other options are available in the `dataset.python_splitters` module which provide more control over how the split occurs.\n"
   ]
  },
  {
   "cell_type": "code",
   "execution_count": 11,
   "metadata": {},
   "outputs": [],
   "source": [
    "header = {\n",
    "    \"col_user\": \"FAKE_CANO\",\n",
    "    \"col_item\": \"CATEGORY\",\n",
    "    \"col_rating\": \"Rating\",\n",
    "#    \"col_timestamp\": \"Timestamp\",\n",
    "#    \"col_prediction\": \"Prediction\",\n",
    "    \"col_timestamp\": None,\n",
    "    \"col_prediction\": \"Prediction\",\n",
    "}"
   ]
  },
  {
   "cell_type": "code",
   "execution_count": 12,
   "metadata": {},
   "outputs": [],
   "source": [
    "train, test = python_stratified_split(reco, ratio=0.75, col_user=header[\"col_user\"], col_item=header[\"col_item\"], seed=42)"
   ]
  },
  {
   "cell_type": "markdown",
   "metadata": {},
   "source": [
    "In this case, for the illustration purpose, the following parameter values are used:\n",
    "\n",
    "|Parameter|Value|Description|\n",
    "|---------|---------|-------------|\n",
    "|`similarity_type`|`jaccard`|Method used to calculate item similarity.|\n",
    "|`time_decay_coefficient`|30|Period in days (term of $T$ shown in the formula of Section 1.2)|\n",
    "|`time_now`|`None`|Time decay reference.|\n",
    "|`timedecay_formula`|`True`|Whether time decay formula is used.|"
   ]
  },
  {
   "cell_type": "code",
   "execution_count": 13,
   "metadata": {},
   "outputs": [
    {
     "data": {
      "text/html": [
       "<div>\n",
       "<style scoped>\n",
       "    .dataframe tbody tr th:only-of-type {\n",
       "        vertical-align: middle;\n",
       "    }\n",
       "\n",
       "    .dataframe tbody tr th {\n",
       "        vertical-align: top;\n",
       "    }\n",
       "\n",
       "    .dataframe thead th {\n",
       "        text-align: right;\n",
       "    }\n",
       "</style>\n",
       "<table border=\"1\" class=\"dataframe\">\n",
       "  <thead>\n",
       "    <tr style=\"text-align: right;\">\n",
       "      <th></th>\n",
       "      <th>FAKE_CANO</th>\n",
       "      <th>PRDT_TYPE_CD</th>\n",
       "      <th>CATEGORY</th>\n",
       "      <th>CNT</th>\n",
       "      <th>TOT</th>\n",
       "      <th>Rating</th>\n",
       "    </tr>\n",
       "  </thead>\n",
       "  <tbody>\n",
       "    <tr>\n",
       "      <th>522711</th>\n",
       "      <td>1</td>\n",
       "      <td>512</td>\n",
       "      <td>해외주식-NASD</td>\n",
       "      <td>31</td>\n",
       "      <td>62</td>\n",
       "      <td>0.500000</td>\n",
       "    </tr>\n",
       "    <tr>\n",
       "      <th>522713</th>\n",
       "      <td>1</td>\n",
       "      <td>529</td>\n",
       "      <td>해외주식-AMEX</td>\n",
       "      <td>13</td>\n",
       "      <td>62</td>\n",
       "      <td>0.209677</td>\n",
       "    </tr>\n",
       "    <tr>\n",
       "      <th>522710</th>\n",
       "      <td>1</td>\n",
       "      <td>300</td>\n",
       "      <td>주식</td>\n",
       "      <td>1</td>\n",
       "      <td>62</td>\n",
       "      <td>0.016129</td>\n",
       "    </tr>\n",
       "    <tr>\n",
       "      <th>1048481</th>\n",
       "      <td>7</td>\n",
       "      <td>512</td>\n",
       "      <td>해외주식-NASD</td>\n",
       "      <td>38</td>\n",
       "      <td>90</td>\n",
       "      <td>0.422222</td>\n",
       "    </tr>\n",
       "    <tr>\n",
       "      <th>1048483</th>\n",
       "      <td>7</td>\n",
       "      <td>529</td>\n",
       "      <td>해외주식-AMEX</td>\n",
       "      <td>8</td>\n",
       "      <td>90</td>\n",
       "      <td>0.088889</td>\n",
       "    </tr>\n",
       "  </tbody>\n",
       "</table>\n",
       "</div>"
      ],
      "text/plain": [
       "         FAKE_CANO  PRDT_TYPE_CD   CATEGORY  CNT  TOT    Rating\n",
       "522711           1           512  해외주식-NASD   31   62  0.500000\n",
       "522713           1           529  해외주식-AMEX   13   62  0.209677\n",
       "522710           1           300         주식    1   62  0.016129\n",
       "1048481          7           512  해외주식-NASD   38   90  0.422222\n",
       "1048483          7           529  해외주식-AMEX    8   90  0.088889"
      ]
     },
     "execution_count": 13,
     "metadata": {},
     "output_type": "execute_result"
    }
   ],
   "source": [
    "train.head()"
   ]
  },
  {
   "cell_type": "code",
   "execution_count": 14,
   "metadata": {},
   "outputs": [
    {
     "data": {
      "text/html": [
       "<div>\n",
       "<style scoped>\n",
       "    .dataframe tbody tr th:only-of-type {\n",
       "        vertical-align: middle;\n",
       "    }\n",
       "\n",
       "    .dataframe tbody tr th {\n",
       "        vertical-align: top;\n",
       "    }\n",
       "\n",
       "    .dataframe thead th {\n",
       "        text-align: right;\n",
       "    }\n",
       "</style>\n",
       "<table border=\"1\" class=\"dataframe\">\n",
       "  <thead>\n",
       "    <tr style=\"text-align: right;\">\n",
       "      <th></th>\n",
       "      <th>FAKE_CANO</th>\n",
       "      <th>PRDT_TYPE_CD</th>\n",
       "      <th>CATEGORY</th>\n",
       "      <th>CNT</th>\n",
       "      <th>TOT</th>\n",
       "      <th>Rating</th>\n",
       "    </tr>\n",
       "  </thead>\n",
       "  <tbody>\n",
       "    <tr>\n",
       "      <th>522712</th>\n",
       "      <td>1</td>\n",
       "      <td>513</td>\n",
       "      <td>해외주식-NYSE</td>\n",
       "      <td>17</td>\n",
       "      <td>62</td>\n",
       "      <td>0.274194</td>\n",
       "    </tr>\n",
       "    <tr>\n",
       "      <th>1048482</th>\n",
       "      <td>7</td>\n",
       "      <td>513</td>\n",
       "      <td>해외주식-NYSE</td>\n",
       "      <td>38</td>\n",
       "      <td>90</td>\n",
       "      <td>0.422222</td>\n",
       "    </tr>\n",
       "    <tr>\n",
       "      <th>795469</th>\n",
       "      <td>20</td>\n",
       "      <td>512</td>\n",
       "      <td>해외주식-NASD</td>\n",
       "      <td>19</td>\n",
       "      <td>37</td>\n",
       "      <td>0.513514</td>\n",
       "    </tr>\n",
       "    <tr>\n",
       "      <th>1111746</th>\n",
       "      <td>51</td>\n",
       "      <td>513</td>\n",
       "      <td>해외주식-NYSE</td>\n",
       "      <td>5</td>\n",
       "      <td>83</td>\n",
       "      <td>0.060241</td>\n",
       "    </tr>\n",
       "    <tr>\n",
       "      <th>1055839</th>\n",
       "      <td>79</td>\n",
       "      <td>513</td>\n",
       "      <td>해외주식-NYSE</td>\n",
       "      <td>10</td>\n",
       "      <td>49</td>\n",
       "      <td>0.204082</td>\n",
       "    </tr>\n",
       "  </tbody>\n",
       "</table>\n",
       "</div>"
      ],
      "text/plain": [
       "         FAKE_CANO  PRDT_TYPE_CD   CATEGORY  CNT  TOT    Rating\n",
       "522712           1           513  해외주식-NYSE   17   62  0.274194\n",
       "1048482          7           513  해외주식-NYSE   38   90  0.422222\n",
       "795469          20           512  해외주식-NASD   19   37  0.513514\n",
       "1111746         51           513  해외주식-NYSE    5   83  0.060241\n",
       "1055839         79           513  해외주식-NYSE   10   49  0.204082"
      ]
     },
     "execution_count": 14,
     "metadata": {},
     "output_type": "execute_result"
    }
   ],
   "source": [
    "test.head()"
   ]
  },
  {
   "cell_type": "code",
   "execution_count": 15,
   "metadata": {},
   "outputs": [],
   "source": [
    "# set log level to INFO\n",
    "logging.basicConfig(level=logging.DEBUG, \n",
    "                    format='%(asctime)s %(levelname)-8s %(message)s')\n",
    "\n",
    "model = SAR(\n",
    "    similarity_type=\"jaccard\", \n",
    "#    time_decay_coefficient=30, \n",
    "#    time_now=None, \n",
    "#    timedecay_formula=True, \n",
    "    **header\n",
    ")"
   ]
  },
  {
   "cell_type": "code",
   "execution_count": 16,
   "metadata": {},
   "outputs": [
    {
     "name": "stderr",
     "output_type": "stream",
     "text": [
      "2022-11-30 09:57:22,553 INFO     Collecting user affinity matrix\n",
      "2022-11-30 09:57:22,572 INFO     Creating index columns\n",
      "2022-11-30 09:57:23,499 INFO     Building user affinity sparse matrix\n",
      "2022-11-30 09:57:23,523 INFO     Calculating item co-occurrence\n",
      "2022-11-30 09:57:23,586 INFO     Calculating item similarity\n",
      "2022-11-30 09:57:23,587 INFO     Using jaccard based similarity\n",
      "2022-11-30 09:57:23,588 INFO     Done training\n"
     ]
    }
   ],
   "source": [
    "model.fit(train)"
   ]
  },
  {
   "cell_type": "code",
   "execution_count": 17,
   "metadata": {
    "scrolled": true
   },
   "outputs": [
    {
     "name": "stderr",
     "output_type": "stream",
     "text": [
      "2022-11-30 09:57:23,734 INFO     Calculating recommendation scores\n",
      "2022-11-30 09:57:23,802 INFO     Removing seen items\n"
     ]
    }
   ],
   "source": [
    "TOP_K = 5\n",
    "top_k = model.recommend_k_items(test, top_k=TOP_K, remove_seen=True)"
   ]
  },
  {
   "cell_type": "markdown",
   "metadata": {},
   "source": [
    "The final output from the `recommend_k_items` method generates recommendation scores for each user-item pair, which are shown as follows."
   ]
  },
  {
   "cell_type": "code",
   "execution_count": 18,
   "metadata": {},
   "outputs": [
    {
     "data": {
      "text/html": [
       "<div>\n",
       "<style scoped>\n",
       "    .dataframe tbody tr th:only-of-type {\n",
       "        vertical-align: middle;\n",
       "    }\n",
       "\n",
       "    .dataframe tbody tr th {\n",
       "        vertical-align: top;\n",
       "    }\n",
       "\n",
       "    .dataframe thead th {\n",
       "        text-align: right;\n",
       "    }\n",
       "</style>\n",
       "<table border=\"1\" class=\"dataframe\">\n",
       "  <thead>\n",
       "    <tr style=\"text-align: right;\">\n",
       "      <th></th>\n",
       "      <th>FAKE_CANO</th>\n",
       "      <th>CATEGORY</th>\n",
       "      <th>Prediction</th>\n",
       "    </tr>\n",
       "  </thead>\n",
       "  <tbody>\n",
       "    <tr>\n",
       "      <th>0</th>\n",
       "      <td>1</td>\n",
       "      <td>펀드</td>\n",
       "      <td>0.036699</td>\n",
       "    </tr>\n",
       "    <tr>\n",
       "      <th>1</th>\n",
       "      <td>1</td>\n",
       "      <td>RP</td>\n",
       "      <td>0.028855</td>\n",
       "    </tr>\n",
       "    <tr>\n",
       "      <th>2</th>\n",
       "      <td>1</td>\n",
       "      <td>해외주식-NYSE</td>\n",
       "      <td>0.027780</td>\n",
       "    </tr>\n",
       "    <tr>\n",
       "      <th>3</th>\n",
       "      <td>1</td>\n",
       "      <td>해외주식-SEHK</td>\n",
       "      <td>0.021750</td>\n",
       "    </tr>\n",
       "    <tr>\n",
       "      <th>4</th>\n",
       "      <td>1</td>\n",
       "      <td>채권</td>\n",
       "      <td>0.018319</td>\n",
       "    </tr>\n",
       "    <tr>\n",
       "      <th>...</th>\n",
       "      <td>...</td>\n",
       "      <td>...</td>\n",
       "      <td>...</td>\n",
       "    </tr>\n",
       "    <tr>\n",
       "      <th>1273450</th>\n",
       "      <td>3719916</td>\n",
       "      <td>해외주식-AMEX</td>\n",
       "      <td>0.514809</td>\n",
       "    </tr>\n",
       "    <tr>\n",
       "      <th>1273451</th>\n",
       "      <td>3719916</td>\n",
       "      <td>해외주식-NASD</td>\n",
       "      <td>0.493284</td>\n",
       "    </tr>\n",
       "    <tr>\n",
       "      <th>1273452</th>\n",
       "      <td>3719916</td>\n",
       "      <td>RP</td>\n",
       "      <td>0.122207</td>\n",
       "    </tr>\n",
       "    <tr>\n",
       "      <th>1273453</th>\n",
       "      <td>3719916</td>\n",
       "      <td>해외주식-NYSE</td>\n",
       "      <td>0.090650</td>\n",
       "    </tr>\n",
       "    <tr>\n",
       "      <th>1273454</th>\n",
       "      <td>3719916</td>\n",
       "      <td>발행어음</td>\n",
       "      <td>0.083242</td>\n",
       "    </tr>\n",
       "  </tbody>\n",
       "</table>\n",
       "<p>1273455 rows × 3 columns</p>\n",
       "</div>"
      ],
      "text/plain": [
       "         FAKE_CANO   CATEGORY  Prediction\n",
       "0                1         펀드    0.036699\n",
       "1                1         RP    0.028855\n",
       "2                1  해외주식-NYSE    0.027780\n",
       "3                1  해외주식-SEHK    0.021750\n",
       "4                1         채권    0.018319\n",
       "...            ...        ...         ...\n",
       "1273450    3719916  해외주식-AMEX    0.514809\n",
       "1273451    3719916  해외주식-NASD    0.493284\n",
       "1273452    3719916         RP    0.122207\n",
       "1273453    3719916  해외주식-NYSE    0.090650\n",
       "1273454    3719916       발행어음    0.083242\n",
       "\n",
       "[1273455 rows x 3 columns]"
      ]
     },
     "execution_count": 18,
     "metadata": {},
     "output_type": "execute_result"
    }
   ],
   "source": [
    "top_k"
   ]
  },
  {
   "cell_type": "markdown",
   "metadata": {
    "tags": []
   },
   "source": [
    "### 3.3 Evaluate the results\n",
    "\n",
    "It should be known that the recommendation scores generated by multiplying the item similarity matrix $S$ and the user affinity matrix $A$ **DOES NOT** have the same scale with the original explicit ratings in the movielens dataset. That is to say, SAR algorithm is meant for the task of *recommending relevent items to users* rather than *predicting explicit ratings for user-item pairs*. \n",
    "\n",
    "To this end, ranking metrics like precision@k, recall@k, etc., are more applicable to evaluate SAR algorithm. The following illustrates how to evaluate SAR model by using the evaluation functions provided in the `recommenders`."
   ]
  },
  {
   "cell_type": "code",
   "execution_count": 76,
   "metadata": {},
   "outputs": [
    {
     "data": {
      "text/plain": [
       "{'col_user': 'FAKE_CANO',\n",
       " 'col_item': 'CATEGORY',\n",
       " 'col_rating': 'Rating',\n",
       " 'col_timestamp': None,\n",
       " 'col_prediction': 'Prediction'}"
      ]
     },
     "execution_count": 76,
     "metadata": {},
     "output_type": "execute_result"
    }
   ],
   "source": [
    "header"
   ]
  },
  {
   "cell_type": "code",
   "execution_count": 77,
   "metadata": {},
   "outputs": [],
   "source": [
    "# all ranking metrics have the same arguments\n",
    "args = [test, top_k]\n",
    "kwargs = dict(col_user=header['col_user'], \n",
    "              col_item=header['col_item'], \n",
    "              col_rating=header['col_rating'] ,\n",
    "              col_prediction=header['col_prediction'] ,\n",
    "              relevancy_method='top_k', \n",
    "              k=TOP_K)\n",
    "\n",
    "eval_map = map_at_k(*args, **kwargs)\n",
    "eval_ndcg = ndcg_at_k(*args, **kwargs)\n",
    "eval_precision = precision_at_k(*args, **kwargs)\n",
    "eval_recall = recall_at_k(*args, **kwargs)"
   ]
  },
  {
   "cell_type": "code",
   "execution_count": 78,
   "metadata": {},
   "outputs": [
    {
     "name": "stdout",
     "output_type": "stream",
     "text": [
      "Model:\n",
      "Top K:\t\t 5\n",
      "MAP:\t\t 0.434180\n",
      "NDCG:\t\t 0.558410\n",
      "Precision@K:\t 0.197538\n",
      "Recall@K:\t 0.901373\n"
     ]
    }
   ],
   "source": [
    "print(f\"Model:\",\n",
    "      f\"Top K:\\t\\t {TOP_K}\",\n",
    "      f\"MAP:\\t\\t {eval_map:f}\",\n",
    "      f\"NDCG:\\t\\t {eval_ndcg:f}\",\n",
    "      f\"Precision@K:\\t {eval_precision:f}\",\n",
    "      f\"Recall@K:\\t {eval_recall:f}\", sep='\\n')"
   ]
  },
  {
   "cell_type": "code",
   "execution_count": 19,
   "metadata": {},
   "outputs": [],
   "source": [
    "test_log = test\n",
    "test_log['Rating'] = 1\n",
    "\n",
    "args_log = [test_log, top_k]\n",
    "kwargs_log = dict(col_user=header['col_user'], \n",
    "              col_item=header['col_item'], \n",
    "              col_rating=header['col_rating'] ,\n",
    "              col_prediction=header['col_prediction'])"
   ]
  },
  {
   "cell_type": "code",
   "execution_count": 20,
   "metadata": {
    "collapsed": true,
    "jupyter": {
     "outputs_hidden": true
    },
    "tags": []
   },
   "outputs": [
    {
     "ename": "ValueError",
     "evalue": "y_true contains only one label (1). Please provide the true labels explicitly through the labels argument.",
     "output_type": "error",
     "traceback": [
      "\u001b[1;31m---------------------------------------------------------------------------\u001b[0m",
      "\u001b[1;31mValueError\u001b[0m                                Traceback (most recent call last)",
      "\u001b[1;32m~\\AppData\\Local\\Temp\\ipykernel_8148\\2774710619.py\u001b[0m in \u001b[0;36m<module>\u001b[1;34m\u001b[0m\n\u001b[1;32m----> 1\u001b[1;33m \u001b[0mlogloss\u001b[0m\u001b[1;33m(\u001b[0m\u001b[1;33m*\u001b[0m\u001b[0margs_log\u001b[0m\u001b[1;33m,\u001b[0m \u001b[1;33m**\u001b[0m\u001b[0mkwargs_log\u001b[0m\u001b[1;33m)\u001b[0m\u001b[1;33m\u001b[0m\u001b[1;33m\u001b[0m\u001b[0m\n\u001b[0m",
      "\u001b[1;32m~\\AppData\\Roaming\\Python\\Python39\\site-packages\\recommenders\\evaluation\\python_evaluation.py\u001b[0m in \u001b[0;36mlogloss\u001b[1;34m(rating_true, rating_pred, col_user, col_item, col_rating, col_prediction)\u001b[0m\n\u001b[0;32m    341\u001b[0m         \u001b[0mcol_prediction\u001b[0m\u001b[1;33m=\u001b[0m\u001b[0mcol_prediction\u001b[0m\u001b[1;33m,\u001b[0m\u001b[1;33m\u001b[0m\u001b[1;33m\u001b[0m\u001b[0m\n\u001b[0;32m    342\u001b[0m     )\n\u001b[1;32m--> 343\u001b[1;33m     \u001b[1;32mreturn\u001b[0m \u001b[0mlog_loss\u001b[0m\u001b[1;33m(\u001b[0m\u001b[0my_true\u001b[0m\u001b[1;33m,\u001b[0m \u001b[0my_pred\u001b[0m\u001b[1;33m)\u001b[0m\u001b[1;33m\u001b[0m\u001b[1;33m\u001b[0m\u001b[0m\n\u001b[0m\u001b[0;32m    344\u001b[0m \u001b[1;33m\u001b[0m\u001b[0m\n\u001b[0;32m    345\u001b[0m \u001b[1;33m\u001b[0m\u001b[0m\n",
      "\u001b[1;32mC:\\Windows\\Anaconda3\\lib\\site-packages\\sklearn\\metrics\\_classification.py\u001b[0m in \u001b[0;36mlog_loss\u001b[1;34m(y_true, y_pred, eps, normalize, sample_weight, labels)\u001b[0m\n\u001b[0;32m   2389\u001b[0m     \u001b[1;32mif\u001b[0m \u001b[0mlen\u001b[0m\u001b[1;33m(\u001b[0m\u001b[0mlb\u001b[0m\u001b[1;33m.\u001b[0m\u001b[0mclasses_\u001b[0m\u001b[1;33m)\u001b[0m \u001b[1;33m==\u001b[0m \u001b[1;36m1\u001b[0m\u001b[1;33m:\u001b[0m\u001b[1;33m\u001b[0m\u001b[1;33m\u001b[0m\u001b[0m\n\u001b[0;32m   2390\u001b[0m         \u001b[1;32mif\u001b[0m \u001b[0mlabels\u001b[0m \u001b[1;32mis\u001b[0m \u001b[1;32mNone\u001b[0m\u001b[1;33m:\u001b[0m\u001b[1;33m\u001b[0m\u001b[1;33m\u001b[0m\u001b[0m\n\u001b[1;32m-> 2391\u001b[1;33m             raise ValueError(\n\u001b[0m\u001b[0;32m   2392\u001b[0m                 \u001b[1;34m\"y_true contains only one label ({0}). Please \"\u001b[0m\u001b[1;33m\u001b[0m\u001b[1;33m\u001b[0m\u001b[0m\n\u001b[0;32m   2393\u001b[0m                 \u001b[1;34m\"provide the true labels explicitly through the \"\u001b[0m\u001b[1;33m\u001b[0m\u001b[1;33m\u001b[0m\u001b[0m\n",
      "\u001b[1;31mValueError\u001b[0m: y_true contains only one label (1). Please provide the true labels explicitly through the labels argument."
     ]
    }
   ],
   "source": [
    "logloss(*args_log, **kwargs_log)"
   ]
  }
 ],
 "metadata": {
  "kernelspec": {
   "display_name": "Python 3 (ipykernel)",
   "language": "python",
   "name": "python3"
  },
  "language_info": {
   "codemirror_mode": {
    "name": "ipython",
    "version": 3
   },
   "file_extension": ".py",
   "mimetype": "text/x-python",
   "name": "python",
   "nbconvert_exporter": "python",
   "pygments_lexer": "ipython3",
   "version": "3.9.13"
  }
 },
 "nbformat": 4,
 "nbformat_minor": 4
}
