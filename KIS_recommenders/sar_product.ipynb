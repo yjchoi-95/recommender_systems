{
 "cells": [
  {
   "cell_type": "markdown",
   "metadata": {},
   "source": [
    "## Import"
   ]
  },
  {
   "cell_type": "code",
   "execution_count": 6,
   "metadata": {},
   "outputs": [
    {
     "name": "stdout",
     "output_type": "stream",
     "text": [
      "System version: 3.9.13 (main, Aug 25 2022, 23:51:50) [MSC v.1916 64 bit (AMD64)]\n",
      "Pandas version: 1.4.4\n"
     ]
    }
   ],
   "source": [
    "# set the environment path to find Recommenders\n",
    "import sys\n",
    "import itertools\n",
    "import logging\n",
    "import os\n",
    "import xlwings as xw\n",
    "import numpy as np\n",
    "import pandas as pd\n",
    "import papermill as pm\n",
    "\n",
    "from recommenders.datasets import movielens\n",
    "from recommenders.datasets.python_splitters import python_stratified_split\n",
    "from recommenders.evaluation.python_evaluation import map_at_k, ndcg_at_k, precision_at_k, recall_at_k, logloss\n",
    "from recommenders.models.sar import SAR\n",
    "\n",
    "print(\"System version: {}\".format(sys.version))\n",
    "print(\"Pandas version: {}\".format(pd.__version__))"
   ]
  },
  {
   "cell_type": "code",
   "execution_count": 2,
   "metadata": {
    "tags": [
     "parameters"
    ]
   },
   "outputs": [],
   "source": [
    "# top k items to recommend\n",
    "TOP_K = 10"
   ]
  },
  {
   "cell_type": "code",
   "execution_count": null,
   "metadata": {},
   "outputs": [],
   "source": []
  },
  {
   "cell_type": "markdown",
   "metadata": {},
   "source": [
    "## Load data"
   ]
  },
  {
   "cell_type": "code",
   "execution_count": 16,
   "metadata": {},
   "outputs": [],
   "source": [
    "def read_xlsx(name, sheet_cnt):\n",
    "    for idx in range(sheet_cnt):\n",
    "        instance = xw.App(visible = False)\n",
    "        xlsx_data = xw.Book(name).sheets[idx]\n",
    "        \n",
    "        if idx == 0:\n",
    "            output_df = xlsx_data.range('A1').options(pd.DataFrame, index = False, expand = 'table').value\n",
    "        else:\n",
    "            temp_df = xlsx_data.range('A1').options(pd.DataFrame, index = False, expand = 'table').value\n",
    "            output_df = pd.concat([output_df, temp_df])\n",
    "    instance.quit()\n",
    "    instance.kill()\n",
    "    \n",
    "    return output_df\n",
    "\n",
    "def read_data(name):\n",
    "    try :\n",
    "        output = pd.read_excel(name)\n",
    "    except ValueError:    \n",
    "        output = read_xlsx(name)\n",
    "    return output"
   ]
  },
  {
   "cell_type": "code",
   "execution_count": 43,
   "metadata": {},
   "outputs": [],
   "source": [
    "data_path = os.getcwd() + \"\\\\datasets\\\\\""
   ]
  },
  {
   "cell_type": "code",
   "execution_count": 44,
   "metadata": {},
   "outputs": [],
   "source": [
    "reco = read_xlsx(data_path + 'recommender_base_v2.xlsx', 2)"
   ]
  },
  {
   "cell_type": "code",
   "execution_count": 45,
   "metadata": {},
   "outputs": [
    {
     "data": {
      "text/html": [
       "<div>\n",
       "<style scoped>\n",
       "    .dataframe tbody tr th:only-of-type {\n",
       "        vertical-align: middle;\n",
       "    }\n",
       "\n",
       "    .dataframe tbody tr th {\n",
       "        vertical-align: top;\n",
       "    }\n",
       "\n",
       "    .dataframe thead th {\n",
       "        text-align: right;\n",
       "    }\n",
       "</style>\n",
       "<table border=\"1\" class=\"dataframe\">\n",
       "  <thead>\n",
       "    <tr style=\"text-align: right;\">\n",
       "      <th></th>\n",
       "      <th>FAKE_CANO</th>\n",
       "      <th>PRDT_TYPE_CD</th>\n",
       "      <th>CATEGORY</th>\n",
       "      <th>CNT</th>\n",
       "      <th>TR_DT</th>\n",
       "      <th>TARGET</th>\n",
       "    </tr>\n",
       "  </thead>\n",
       "  <tbody>\n",
       "    <tr>\n",
       "      <th>0</th>\n",
       "      <td>1.0</td>\n",
       "      <td>152</td>\n",
       "      <td>랩어카운트</td>\n",
       "      <td>4.0</td>\n",
       "      <td>20180711</td>\n",
       "      <td>TRAIN</td>\n",
       "    </tr>\n",
       "    <tr>\n",
       "      <th>1</th>\n",
       "      <td>1.0</td>\n",
       "      <td>300</td>\n",
       "      <td>주식</td>\n",
       "      <td>36.0</td>\n",
       "      <td>20210323</td>\n",
       "      <td>TRAIN</td>\n",
       "    </tr>\n",
       "    <tr>\n",
       "      <th>2</th>\n",
       "      <td>1.0</td>\n",
       "      <td>325</td>\n",
       "      <td>발행어음</td>\n",
       "      <td>4.0</td>\n",
       "      <td>20190918</td>\n",
       "      <td>TRAIN</td>\n",
       "    </tr>\n",
       "    <tr>\n",
       "      <th>3</th>\n",
       "      <td>1.0</td>\n",
       "      <td>306</td>\n",
       "      <td>ELS</td>\n",
       "      <td>6.0</td>\n",
       "      <td>20200929</td>\n",
       "      <td>TRAIN</td>\n",
       "    </tr>\n",
       "    <tr>\n",
       "      <th>4</th>\n",
       "      <td>1.0</td>\n",
       "      <td>307</td>\n",
       "      <td>펀드</td>\n",
       "      <td>20.0</td>\n",
       "      <td>20200506</td>\n",
       "      <td>TRAIN</td>\n",
       "    </tr>\n",
       "  </tbody>\n",
       "</table>\n",
       "</div>"
      ],
      "text/plain": [
       "   FAKE_CANO PRDT_TYPE_CD CATEGORY   CNT     TR_DT TARGET\n",
       "0        1.0          152    랩어카운트   4.0  20180711  TRAIN\n",
       "1        1.0          300       주식  36.0  20210323  TRAIN\n",
       "2        1.0          325     발행어음   4.0  20190918  TRAIN\n",
       "3        1.0          306      ELS   6.0  20200929  TRAIN\n",
       "4        1.0          307       펀드  20.0  20200506  TRAIN"
      ]
     },
     "execution_count": 45,
     "metadata": {},
     "output_type": "execute_result"
    }
   ],
   "source": [
    "reco.head()"
   ]
  },
  {
   "cell_type": "code",
   "execution_count": null,
   "metadata": {},
   "outputs": [],
   "source": []
  },
  {
   "cell_type": "markdown",
   "metadata": {},
   "source": [
    "* find train/test cano"
   ]
  },
  {
   "cell_type": "code",
   "execution_count": 46,
   "metadata": {},
   "outputs": [],
   "source": [
    "temp_df = pd.DataFrame(reco.groupby(['FAKE_CANO', 'TARGET'])['PRDT_TYPE_CD'].count()).reset_index()\n",
    "temp_df2 = pd.DataFrame(temp_df.groupby(\"FAKE_CANO\")['TARGET'].count()).reset_index()\n",
    "split_cano = temp_df2.loc[temp_df2.TARGET > 1, ['FAKE_CANO']]"
   ]
  },
  {
   "cell_type": "code",
   "execution_count": 47,
   "metadata": {},
   "outputs": [],
   "source": [
    "reco = reco.loc[reco.FAKE_CANO.isin(split_cano.FAKE_CANO), :]"
   ]
  },
  {
   "cell_type": "code",
   "execution_count": null,
   "metadata": {},
   "outputs": [],
   "source": []
  },
  {
   "cell_type": "markdown",
   "metadata": {},
   "source": [
    "* data split"
   ]
  },
  {
   "cell_type": "code",
   "execution_count": 48,
   "metadata": {},
   "outputs": [
    {
     "data": {
      "text/html": [
       "<div>\n",
       "<style scoped>\n",
       "    .dataframe tbody tr th:only-of-type {\n",
       "        vertical-align: middle;\n",
       "    }\n",
       "\n",
       "    .dataframe tbody tr th {\n",
       "        vertical-align: top;\n",
       "    }\n",
       "\n",
       "    .dataframe thead th {\n",
       "        text-align: right;\n",
       "    }\n",
       "</style>\n",
       "<table border=\"1\" class=\"dataframe\">\n",
       "  <thead>\n",
       "    <tr style=\"text-align: right;\">\n",
       "      <th></th>\n",
       "      <th>FAKE_CANO</th>\n",
       "      <th>PRDT_TYPE_CD</th>\n",
       "      <th>CATEGORY</th>\n",
       "      <th>CNT</th>\n",
       "      <th>TR_DT</th>\n",
       "      <th>TARGET</th>\n",
       "    </tr>\n",
       "  </thead>\n",
       "  <tbody>\n",
       "    <tr>\n",
       "      <th>6</th>\n",
       "      <td>4.0</td>\n",
       "      <td>152</td>\n",
       "      <td>랩어카운트</td>\n",
       "      <td>21.0</td>\n",
       "      <td>20220222</td>\n",
       "      <td>TEST</td>\n",
       "    </tr>\n",
       "    <tr>\n",
       "      <th>7</th>\n",
       "      <td>4.0</td>\n",
       "      <td>300</td>\n",
       "      <td>주식</td>\n",
       "      <td>18.0</td>\n",
       "      <td>20220105</td>\n",
       "      <td>TEST</td>\n",
       "    </tr>\n",
       "    <tr>\n",
       "      <th>8</th>\n",
       "      <td>4.0</td>\n",
       "      <td>302</td>\n",
       "      <td>채권</td>\n",
       "      <td>30.0</td>\n",
       "      <td>20220114</td>\n",
       "      <td>TEST</td>\n",
       "    </tr>\n",
       "    <tr>\n",
       "      <th>9</th>\n",
       "      <td>4.0</td>\n",
       "      <td>307</td>\n",
       "      <td>펀드</td>\n",
       "      <td>240.0</td>\n",
       "      <td>20220103</td>\n",
       "      <td>TEST</td>\n",
       "    </tr>\n",
       "    <tr>\n",
       "      <th>10</th>\n",
       "      <td>4.0</td>\n",
       "      <td>325</td>\n",
       "      <td>발행어음</td>\n",
       "      <td>87.0</td>\n",
       "      <td>20220103</td>\n",
       "      <td>TEST</td>\n",
       "    </tr>\n",
       "  </tbody>\n",
       "</table>\n",
       "</div>"
      ],
      "text/plain": [
       "    FAKE_CANO PRDT_TYPE_CD CATEGORY    CNT     TR_DT TARGET\n",
       "6         4.0          152    랩어카운트   21.0  20220222   TEST\n",
       "7         4.0          300       주식   18.0  20220105   TEST\n",
       "8         4.0          302       채권   30.0  20220114   TEST\n",
       "9         4.0          307       펀드  240.0  20220103   TEST\n",
       "10        4.0          325     발행어음   87.0  20220103   TEST"
      ]
     },
     "execution_count": 48,
     "metadata": {},
     "output_type": "execute_result"
    }
   ],
   "source": [
    "reco.head()"
   ]
  },
  {
   "cell_type": "code",
   "execution_count": 49,
   "metadata": {},
   "outputs": [],
   "source": [
    "train_reco = reco.loc[reco.TARGET == 'TRAIN']\n",
    "test_reco = reco.loc[reco.TARGET == 'TEST']"
   ]
  },
  {
   "cell_type": "code",
   "execution_count": 54,
   "metadata": {},
   "outputs": [
    {
     "data": {
      "text/html": [
       "<div>\n",
       "<style scoped>\n",
       "    .dataframe tbody tr th:only-of-type {\n",
       "        vertical-align: middle;\n",
       "    }\n",
       "\n",
       "    .dataframe tbody tr th {\n",
       "        vertical-align: top;\n",
       "    }\n",
       "\n",
       "    .dataframe thead th {\n",
       "        text-align: right;\n",
       "    }\n",
       "</style>\n",
       "<table border=\"1\" class=\"dataframe\">\n",
       "  <thead>\n",
       "    <tr style=\"text-align: right;\">\n",
       "      <th></th>\n",
       "      <th>FAKE_CANO</th>\n",
       "      <th>PRDT_TYPE_CD</th>\n",
       "      <th>CATEGORY</th>\n",
       "      <th>CNT</th>\n",
       "      <th>TR_DT</th>\n",
       "      <th>TARGET</th>\n",
       "    </tr>\n",
       "  </thead>\n",
       "  <tbody>\n",
       "    <tr>\n",
       "      <th>11</th>\n",
       "      <td>4.0</td>\n",
       "      <td>325</td>\n",
       "      <td>발행어음</td>\n",
       "      <td>87.0</td>\n",
       "      <td>20211214</td>\n",
       "      <td>TRAIN</td>\n",
       "    </tr>\n",
       "    <tr>\n",
       "      <th>12</th>\n",
       "      <td>4.0</td>\n",
       "      <td>300</td>\n",
       "      <td>주식</td>\n",
       "      <td>69.0</td>\n",
       "      <td>20211118</td>\n",
       "      <td>TRAIN</td>\n",
       "    </tr>\n",
       "    <tr>\n",
       "      <th>13</th>\n",
       "      <td>4.0</td>\n",
       "      <td>302</td>\n",
       "      <td>채권</td>\n",
       "      <td>168.0</td>\n",
       "      <td>20211108</td>\n",
       "      <td>TRAIN</td>\n",
       "    </tr>\n",
       "    <tr>\n",
       "      <th>14</th>\n",
       "      <td>4.0</td>\n",
       "      <td>306</td>\n",
       "      <td>ELS</td>\n",
       "      <td>141.0</td>\n",
       "      <td>20210917</td>\n",
       "      <td>TRAIN</td>\n",
       "    </tr>\n",
       "    <tr>\n",
       "      <th>15</th>\n",
       "      <td>4.0</td>\n",
       "      <td>307</td>\n",
       "      <td>펀드</td>\n",
       "      <td>3060.0</td>\n",
       "      <td>20211213</td>\n",
       "      <td>TRAIN</td>\n",
       "    </tr>\n",
       "    <tr>\n",
       "      <th>16</th>\n",
       "      <td>4.0</td>\n",
       "      <td>318</td>\n",
       "      <td>단기사채</td>\n",
       "      <td>30.0</td>\n",
       "      <td>20190722</td>\n",
       "      <td>TRAIN</td>\n",
       "    </tr>\n",
       "    <tr>\n",
       "      <th>17</th>\n",
       "      <td>4.0</td>\n",
       "      <td>152</td>\n",
       "      <td>랩어카운트</td>\n",
       "      <td>75.0</td>\n",
       "      <td>20211130</td>\n",
       "      <td>TRAIN</td>\n",
       "    </tr>\n",
       "  </tbody>\n",
       "</table>\n",
       "</div>"
      ],
      "text/plain": [
       "    FAKE_CANO PRDT_TYPE_CD CATEGORY     CNT     TR_DT TARGET\n",
       "11        4.0          325     발행어음    87.0  20211214  TRAIN\n",
       "12        4.0          300       주식    69.0  20211118  TRAIN\n",
       "13        4.0          302       채권   168.0  20211108  TRAIN\n",
       "14        4.0          306      ELS   141.0  20210917  TRAIN\n",
       "15        4.0          307       펀드  3060.0  20211213  TRAIN\n",
       "16        4.0          318     단기사채    30.0  20190722  TRAIN\n",
       "17        4.0          152    랩어카운트    75.0  20211130  TRAIN"
      ]
     },
     "execution_count": 54,
     "metadata": {},
     "output_type": "execute_result"
    }
   ],
   "source": [
    "train_reco.loc[train_reco.FAKE_CANO == 4]"
   ]
  },
  {
   "cell_type": "code",
   "execution_count": 56,
   "metadata": {},
   "outputs": [
    {
     "data": {
      "text/html": [
       "<div>\n",
       "<style scoped>\n",
       "    .dataframe tbody tr th:only-of-type {\n",
       "        vertical-align: middle;\n",
       "    }\n",
       "\n",
       "    .dataframe tbody tr th {\n",
       "        vertical-align: top;\n",
       "    }\n",
       "\n",
       "    .dataframe thead th {\n",
       "        text-align: right;\n",
       "    }\n",
       "</style>\n",
       "<table border=\"1\" class=\"dataframe\">\n",
       "  <thead>\n",
       "    <tr style=\"text-align: right;\">\n",
       "      <th></th>\n",
       "      <th>FAKE_CANO</th>\n",
       "      <th>PRDT_TYPE_CD</th>\n",
       "      <th>CATEGORY</th>\n",
       "      <th>CNT</th>\n",
       "      <th>TR_DT</th>\n",
       "      <th>TARGET</th>\n",
       "    </tr>\n",
       "  </thead>\n",
       "  <tbody>\n",
       "    <tr>\n",
       "      <th>6</th>\n",
       "      <td>4.0</td>\n",
       "      <td>152</td>\n",
       "      <td>랩어카운트</td>\n",
       "      <td>21.0</td>\n",
       "      <td>20220222</td>\n",
       "      <td>TEST</td>\n",
       "    </tr>\n",
       "    <tr>\n",
       "      <th>7</th>\n",
       "      <td>4.0</td>\n",
       "      <td>300</td>\n",
       "      <td>주식</td>\n",
       "      <td>18.0</td>\n",
       "      <td>20220105</td>\n",
       "      <td>TEST</td>\n",
       "    </tr>\n",
       "    <tr>\n",
       "      <th>8</th>\n",
       "      <td>4.0</td>\n",
       "      <td>302</td>\n",
       "      <td>채권</td>\n",
       "      <td>30.0</td>\n",
       "      <td>20220114</td>\n",
       "      <td>TEST</td>\n",
       "    </tr>\n",
       "    <tr>\n",
       "      <th>9</th>\n",
       "      <td>4.0</td>\n",
       "      <td>307</td>\n",
       "      <td>펀드</td>\n",
       "      <td>240.0</td>\n",
       "      <td>20220103</td>\n",
       "      <td>TEST</td>\n",
       "    </tr>\n",
       "    <tr>\n",
       "      <th>10</th>\n",
       "      <td>4.0</td>\n",
       "      <td>325</td>\n",
       "      <td>발행어음</td>\n",
       "      <td>87.0</td>\n",
       "      <td>20220103</td>\n",
       "      <td>TEST</td>\n",
       "    </tr>\n",
       "  </tbody>\n",
       "</table>\n",
       "</div>"
      ],
      "text/plain": [
       "    FAKE_CANO PRDT_TYPE_CD CATEGORY    CNT     TR_DT TARGET\n",
       "6         4.0          152    랩어카운트   21.0  20220222   TEST\n",
       "7         4.0          300       주식   18.0  20220105   TEST\n",
       "8         4.0          302       채권   30.0  20220114   TEST\n",
       "9         4.0          307       펀드  240.0  20220103   TEST\n",
       "10        4.0          325     발행어음   87.0  20220103   TEST"
      ]
     },
     "execution_count": 56,
     "metadata": {},
     "output_type": "execute_result"
    }
   ],
   "source": [
    "test_reco.loc[test_reco.FAKE_CANO == 4]"
   ]
  },
  {
   "cell_type": "code",
   "execution_count": null,
   "metadata": {},
   "outputs": [],
   "source": []
  },
  {
   "cell_type": "markdown",
   "metadata": {},
   "source": [
    "* get rating"
   ]
  },
  {
   "cell_type": "code",
   "execution_count": 57,
   "metadata": {},
   "outputs": [],
   "source": [
    "def portion(x):\n",
    "    return x / x.sum()"
   ]
  },
  {
   "cell_type": "code",
   "execution_count": 59,
   "metadata": {},
   "outputs": [],
   "source": [
    "def base_preproc(reco):\n",
    "    sum_df = pd.DataFrame(reco.groupby(['FAKE_CANO'])['CNT'].sum()).reset_index()\n",
    "    sum_df.columns = ['FAKE_CANO', 'TOT']\n",
    "    reco = pd.merge(reco, sum_df, on = 'FAKE_CANO', how = 'inner')\n",
    "    reco['Rating'] = reco['CNT'] / reco['TOT']\n",
    "    reco['Rating'] = reco['Rating'].astype(np.float32)\n",
    "    \n",
    "    return reco"
   ]
  },
  {
   "cell_type": "code",
   "execution_count": 61,
   "metadata": {},
   "outputs": [],
   "source": [
    "train_reco = base_preproc(train_reco)\n",
    "test_reco = base_preproc(test_reco)"
   ]
  },
  {
   "cell_type": "code",
   "execution_count": 62,
   "metadata": {},
   "outputs": [
    {
     "data": {
      "text/html": [
       "<div>\n",
       "<style scoped>\n",
       "    .dataframe tbody tr th:only-of-type {\n",
       "        vertical-align: middle;\n",
       "    }\n",
       "\n",
       "    .dataframe tbody tr th {\n",
       "        vertical-align: top;\n",
       "    }\n",
       "\n",
       "    .dataframe thead th {\n",
       "        text-align: right;\n",
       "    }\n",
       "</style>\n",
       "<table border=\"1\" class=\"dataframe\">\n",
       "  <thead>\n",
       "    <tr style=\"text-align: right;\">\n",
       "      <th></th>\n",
       "      <th>FAKE_CANO</th>\n",
       "      <th>PRDT_TYPE_CD</th>\n",
       "      <th>CATEGORY</th>\n",
       "      <th>CNT</th>\n",
       "      <th>TR_DT</th>\n",
       "      <th>TARGET</th>\n",
       "      <th>TOT</th>\n",
       "      <th>Rating</th>\n",
       "    </tr>\n",
       "  </thead>\n",
       "  <tbody>\n",
       "    <tr>\n",
       "      <th>0</th>\n",
       "      <td>4.0</td>\n",
       "      <td>325</td>\n",
       "      <td>발행어음</td>\n",
       "      <td>87.0</td>\n",
       "      <td>20211214</td>\n",
       "      <td>TRAIN</td>\n",
       "      <td>3630.0</td>\n",
       "      <td>0.023967</td>\n",
       "    </tr>\n",
       "    <tr>\n",
       "      <th>1</th>\n",
       "      <td>4.0</td>\n",
       "      <td>300</td>\n",
       "      <td>주식</td>\n",
       "      <td>69.0</td>\n",
       "      <td>20211118</td>\n",
       "      <td>TRAIN</td>\n",
       "      <td>3630.0</td>\n",
       "      <td>0.019008</td>\n",
       "    </tr>\n",
       "    <tr>\n",
       "      <th>2</th>\n",
       "      <td>4.0</td>\n",
       "      <td>302</td>\n",
       "      <td>채권</td>\n",
       "      <td>168.0</td>\n",
       "      <td>20211108</td>\n",
       "      <td>TRAIN</td>\n",
       "      <td>3630.0</td>\n",
       "      <td>0.046281</td>\n",
       "    </tr>\n",
       "    <tr>\n",
       "      <th>3</th>\n",
       "      <td>4.0</td>\n",
       "      <td>306</td>\n",
       "      <td>ELS</td>\n",
       "      <td>141.0</td>\n",
       "      <td>20210917</td>\n",
       "      <td>TRAIN</td>\n",
       "      <td>3630.0</td>\n",
       "      <td>0.038843</td>\n",
       "    </tr>\n",
       "    <tr>\n",
       "      <th>4</th>\n",
       "      <td>4.0</td>\n",
       "      <td>307</td>\n",
       "      <td>펀드</td>\n",
       "      <td>3060.0</td>\n",
       "      <td>20211213</td>\n",
       "      <td>TRAIN</td>\n",
       "      <td>3630.0</td>\n",
       "      <td>0.842975</td>\n",
       "    </tr>\n",
       "  </tbody>\n",
       "</table>\n",
       "</div>"
      ],
      "text/plain": [
       "   FAKE_CANO PRDT_TYPE_CD CATEGORY     CNT     TR_DT TARGET     TOT    Rating\n",
       "0        4.0          325     발행어음    87.0  20211214  TRAIN  3630.0  0.023967\n",
       "1        4.0          300       주식    69.0  20211118  TRAIN  3630.0  0.019008\n",
       "2        4.0          302       채권   168.0  20211108  TRAIN  3630.0  0.046281\n",
       "3        4.0          306      ELS   141.0  20210917  TRAIN  3630.0  0.038843\n",
       "4        4.0          307       펀드  3060.0  20211213  TRAIN  3630.0  0.842975"
      ]
     },
     "execution_count": 62,
     "metadata": {},
     "output_type": "execute_result"
    }
   ],
   "source": [
    "train_reco.head()"
   ]
  },
  {
   "cell_type": "code",
   "execution_count": 63,
   "metadata": {},
   "outputs": [],
   "source": [
    "header = {\n",
    "    \"col_user\": \"FAKE_CANO\",\n",
    "    \"col_item\": \"CATEGORY\",\n",
    "    \"col_rating\": \"Rating\",\n",
    "#    \"col_timestamp\": \"Timestamp\",\n",
    "#    \"col_prediction\": \"Prediction\",\n",
    "    \"col_timestamp\": None,\n",
    "    \"col_prediction\": \"Prediction\",\n",
    "}"
   ]
  },
  {
   "cell_type": "code",
   "execution_count": 12,
   "metadata": {},
   "outputs": [],
   "source": [
    "# train, test = python_stratified_split(reco, ratio=0.75, col_user=header[\"col_user\"], col_item=header[\"col_item\"], seed=42)"
   ]
  },
  {
   "cell_type": "markdown",
   "metadata": {},
   "source": [
    "In this case, for the illustration purpose, the following parameter values are used:\n",
    "\n",
    "|Parameter|Value|Description|\n",
    "|---------|---------|-------------|\n",
    "|`similarity_type`|`jaccard`|Method used to calculate item similarity.|\n",
    "|`time_decay_coefficient`|30|Period in days (term of $T$ shown in the formula of Section 1.2)|\n",
    "|`time_now`|`None`|Time decay reference.|\n",
    "|`timedecay_formula`|`True`|Whether time decay formula is used.|"
   ]
  },
  {
   "cell_type": "code",
   "execution_count": 64,
   "metadata": {},
   "outputs": [],
   "source": [
    "# set log level to INFO\n",
    "logging.basicConfig(level=logging.DEBUG, \n",
    "                    format='%(asctime)s %(levelname)-8s %(message)s')\n",
    "\n",
    "model = SAR(\n",
    "    similarity_type=\"jaccard\", \n",
    "#    time_decay_coefficient=30, \n",
    "#    time_now=None, \n",
    "#    timedecay_formula=True, \n",
    "    **header\n",
    ")"
   ]
  },
  {
   "cell_type": "code",
   "execution_count": 65,
   "metadata": {},
   "outputs": [
    {
     "name": "stderr",
     "output_type": "stream",
     "text": [
      "2022-12-08 13:55:09,083 INFO     Collecting user affinity matrix\n",
      "2022-12-08 13:55:09,132 INFO     Creating index columns\n",
      "2022-12-08 13:55:10,876 INFO     Building user affinity sparse matrix\n",
      "2022-12-08 13:55:10,909 INFO     Calculating item co-occurrence\n",
      "2022-12-08 13:55:11,012 INFO     Calculating item similarity\n",
      "2022-12-08 13:55:11,013 INFO     Using jaccard based similarity\n",
      "2022-12-08 13:55:11,015 INFO     Done training\n"
     ]
    }
   ],
   "source": [
    "model.fit(train_reco)"
   ]
  },
  {
   "cell_type": "code",
   "execution_count": 67,
   "metadata": {
    "scrolled": true
   },
   "outputs": [
    {
     "name": "stderr",
     "output_type": "stream",
     "text": [
      "2022-12-08 13:55:20,100 INFO     Calculating recommendation scores\n"
     ]
    }
   ],
   "source": [
    "TOP_K = 5\n",
    "top_k = model.recommend_k_items(test_reco, top_k=TOP_K, remove_seen=False)"
   ]
  },
  {
   "cell_type": "code",
   "execution_count": 68,
   "metadata": {},
   "outputs": [
    {
     "data": {
      "text/html": [
       "<div>\n",
       "<style scoped>\n",
       "    .dataframe tbody tr th:only-of-type {\n",
       "        vertical-align: middle;\n",
       "    }\n",
       "\n",
       "    .dataframe tbody tr th {\n",
       "        vertical-align: top;\n",
       "    }\n",
       "\n",
       "    .dataframe thead th {\n",
       "        text-align: right;\n",
       "    }\n",
       "</style>\n",
       "<table border=\"1\" class=\"dataframe\">\n",
       "  <thead>\n",
       "    <tr style=\"text-align: right;\">\n",
       "      <th></th>\n",
       "      <th>FAKE_CANO</th>\n",
       "      <th>CATEGORY</th>\n",
       "      <th>Prediction</th>\n",
       "    </tr>\n",
       "  </thead>\n",
       "  <tbody>\n",
       "    <tr>\n",
       "      <th>0</th>\n",
       "      <td>4.0</td>\n",
       "      <td>펀드</td>\n",
       "      <td>0.884193</td>\n",
       "    </tr>\n",
       "    <tr>\n",
       "      <th>1</th>\n",
       "      <td>4.0</td>\n",
       "      <td>채권</td>\n",
       "      <td>0.359644</td>\n",
       "    </tr>\n",
       "    <tr>\n",
       "      <th>2</th>\n",
       "      <td>4.0</td>\n",
       "      <td>ELS</td>\n",
       "      <td>0.345251</td>\n",
       "    </tr>\n",
       "    <tr>\n",
       "      <th>3</th>\n",
       "      <td>4.0</td>\n",
       "      <td>RP</td>\n",
       "      <td>0.279993</td>\n",
       "    </tr>\n",
       "    <tr>\n",
       "      <th>4</th>\n",
       "      <td>4.0</td>\n",
       "      <td>발행어음</td>\n",
       "      <td>0.234176</td>\n",
       "    </tr>\n",
       "    <tr>\n",
       "      <th>...</th>\n",
       "      <td>...</td>\n",
       "      <td>...</td>\n",
       "      <td>...</td>\n",
       "    </tr>\n",
       "    <tr>\n",
       "      <th>459175</th>\n",
       "      <td>3705257.0</td>\n",
       "      <td>주식</td>\n",
       "      <td>0.971079</td>\n",
       "    </tr>\n",
       "    <tr>\n",
       "      <th>459176</th>\n",
       "      <td>3705257.0</td>\n",
       "      <td>해외주식-NASD</td>\n",
       "      <td>0.936858</td>\n",
       "    </tr>\n",
       "    <tr>\n",
       "      <th>459177</th>\n",
       "      <td>3705257.0</td>\n",
       "      <td>해외주식-NYSE</td>\n",
       "      <td>0.917172</td>\n",
       "    </tr>\n",
       "    <tr>\n",
       "      <th>459178</th>\n",
       "      <td>3705257.0</td>\n",
       "      <td>해외주식-AMEX</td>\n",
       "      <td>0.885262</td>\n",
       "    </tr>\n",
       "    <tr>\n",
       "      <th>459179</th>\n",
       "      <td>3705257.0</td>\n",
       "      <td>펀드</td>\n",
       "      <td>0.153338</td>\n",
       "    </tr>\n",
       "  </tbody>\n",
       "</table>\n",
       "<p>459180 rows × 3 columns</p>\n",
       "</div>"
      ],
      "text/plain": [
       "        FAKE_CANO   CATEGORY  Prediction\n",
       "0             4.0         펀드    0.884193\n",
       "1             4.0         채권    0.359644\n",
       "2             4.0        ELS    0.345251\n",
       "3             4.0         RP    0.279993\n",
       "4             4.0       발행어음    0.234176\n",
       "...           ...        ...         ...\n",
       "459175  3705257.0         주식    0.971079\n",
       "459176  3705257.0  해외주식-NASD    0.936858\n",
       "459177  3705257.0  해외주식-NYSE    0.917172\n",
       "459178  3705257.0  해외주식-AMEX    0.885262\n",
       "459179  3705257.0         펀드    0.153338\n",
       "\n",
       "[459180 rows x 3 columns]"
      ]
     },
     "execution_count": 68,
     "metadata": {},
     "output_type": "execute_result"
    }
   ],
   "source": [
    "top_k"
   ]
  },
  {
   "cell_type": "code",
   "execution_count": 74,
   "metadata": {},
   "outputs": [
    {
     "data": {
      "text/html": [
       "<div>\n",
       "<style scoped>\n",
       "    .dataframe tbody tr th:only-of-type {\n",
       "        vertical-align: middle;\n",
       "    }\n",
       "\n",
       "    .dataframe tbody tr th {\n",
       "        vertical-align: top;\n",
       "    }\n",
       "\n",
       "    .dataframe thead th {\n",
       "        text-align: right;\n",
       "    }\n",
       "</style>\n",
       "<table border=\"1\" class=\"dataframe\">\n",
       "  <thead>\n",
       "    <tr style=\"text-align: right;\">\n",
       "      <th></th>\n",
       "      <th>FAKE_CANO</th>\n",
       "      <th>PRDT_TYPE_CD</th>\n",
       "      <th>CATEGORY</th>\n",
       "      <th>CNT</th>\n",
       "      <th>TR_DT</th>\n",
       "      <th>TARGET</th>\n",
       "      <th>TOT</th>\n",
       "      <th>Rating</th>\n",
       "    </tr>\n",
       "  </thead>\n",
       "  <tbody>\n",
       "    <tr>\n",
       "      <th>0</th>\n",
       "      <td>4.0</td>\n",
       "      <td>152</td>\n",
       "      <td>랩어카운트</td>\n",
       "      <td>21.0</td>\n",
       "      <td>20220222</td>\n",
       "      <td>TEST</td>\n",
       "      <td>396.0</td>\n",
       "      <td>0.053030</td>\n",
       "    </tr>\n",
       "    <tr>\n",
       "      <th>1</th>\n",
       "      <td>4.0</td>\n",
       "      <td>300</td>\n",
       "      <td>주식</td>\n",
       "      <td>18.0</td>\n",
       "      <td>20220105</td>\n",
       "      <td>TEST</td>\n",
       "      <td>396.0</td>\n",
       "      <td>0.045455</td>\n",
       "    </tr>\n",
       "    <tr>\n",
       "      <th>2</th>\n",
       "      <td>4.0</td>\n",
       "      <td>302</td>\n",
       "      <td>채권</td>\n",
       "      <td>30.0</td>\n",
       "      <td>20220114</td>\n",
       "      <td>TEST</td>\n",
       "      <td>396.0</td>\n",
       "      <td>0.075758</td>\n",
       "    </tr>\n",
       "    <tr>\n",
       "      <th>3</th>\n",
       "      <td>4.0</td>\n",
       "      <td>307</td>\n",
       "      <td>펀드</td>\n",
       "      <td>240.0</td>\n",
       "      <td>20220103</td>\n",
       "      <td>TEST</td>\n",
       "      <td>396.0</td>\n",
       "      <td>0.606061</td>\n",
       "    </tr>\n",
       "    <tr>\n",
       "      <th>4</th>\n",
       "      <td>4.0</td>\n",
       "      <td>325</td>\n",
       "      <td>발행어음</td>\n",
       "      <td>87.0</td>\n",
       "      <td>20220103</td>\n",
       "      <td>TEST</td>\n",
       "      <td>396.0</td>\n",
       "      <td>0.219697</td>\n",
       "    </tr>\n",
       "    <tr>\n",
       "      <th>...</th>\n",
       "      <td>...</td>\n",
       "      <td>...</td>\n",
       "      <td>...</td>\n",
       "      <td>...</td>\n",
       "      <td>...</td>\n",
       "      <td>...</td>\n",
       "      <td>...</td>\n",
       "      <td>...</td>\n",
       "    </tr>\n",
       "    <tr>\n",
       "      <th>394418</th>\n",
       "      <td>3694273.0</td>\n",
       "      <td>529</td>\n",
       "      <td>해외주식-AMEX</td>\n",
       "      <td>2.0</td>\n",
       "      <td>20220107</td>\n",
       "      <td>TEST</td>\n",
       "      <td>26.0</td>\n",
       "      <td>0.076923</td>\n",
       "    </tr>\n",
       "    <tr>\n",
       "      <th>394419</th>\n",
       "      <td>3705257.0</td>\n",
       "      <td>513</td>\n",
       "      <td>해외주식-NYSE</td>\n",
       "      <td>8.0</td>\n",
       "      <td>20220209</td>\n",
       "      <td>TEST</td>\n",
       "      <td>42.0</td>\n",
       "      <td>0.190476</td>\n",
       "    </tr>\n",
       "    <tr>\n",
       "      <th>394420</th>\n",
       "      <td>3705257.0</td>\n",
       "      <td>529</td>\n",
       "      <td>해외주식-AMEX</td>\n",
       "      <td>6.0</td>\n",
       "      <td>20220107</td>\n",
       "      <td>TEST</td>\n",
       "      <td>42.0</td>\n",
       "      <td>0.142857</td>\n",
       "    </tr>\n",
       "    <tr>\n",
       "      <th>394421</th>\n",
       "      <td>3705257.0</td>\n",
       "      <td>300</td>\n",
       "      <td>주식</td>\n",
       "      <td>12.0</td>\n",
       "      <td>20220308</td>\n",
       "      <td>TEST</td>\n",
       "      <td>42.0</td>\n",
       "      <td>0.285714</td>\n",
       "    </tr>\n",
       "    <tr>\n",
       "      <th>394422</th>\n",
       "      <td>3705257.0</td>\n",
       "      <td>512</td>\n",
       "      <td>해외주식-NASD</td>\n",
       "      <td>16.0</td>\n",
       "      <td>20220107</td>\n",
       "      <td>TEST</td>\n",
       "      <td>42.0</td>\n",
       "      <td>0.380952</td>\n",
       "    </tr>\n",
       "  </tbody>\n",
       "</table>\n",
       "<p>394423 rows × 8 columns</p>\n",
       "</div>"
      ],
      "text/plain": [
       "        FAKE_CANO PRDT_TYPE_CD   CATEGORY    CNT     TR_DT TARGET    TOT  \\\n",
       "0             4.0          152      랩어카운트   21.0  20220222   TEST  396.0   \n",
       "1             4.0          300         주식   18.0  20220105   TEST  396.0   \n",
       "2             4.0          302         채권   30.0  20220114   TEST  396.0   \n",
       "3             4.0          307         펀드  240.0  20220103   TEST  396.0   \n",
       "4             4.0          325       발행어음   87.0  20220103   TEST  396.0   \n",
       "...           ...          ...        ...    ...       ...    ...    ...   \n",
       "394418  3694273.0          529  해외주식-AMEX    2.0  20220107   TEST   26.0   \n",
       "394419  3705257.0          513  해외주식-NYSE    8.0  20220209   TEST   42.0   \n",
       "394420  3705257.0          529  해외주식-AMEX    6.0  20220107   TEST   42.0   \n",
       "394421  3705257.0          300         주식   12.0  20220308   TEST   42.0   \n",
       "394422  3705257.0          512  해외주식-NASD   16.0  20220107   TEST   42.0   \n",
       "\n",
       "          Rating  \n",
       "0       0.053030  \n",
       "1       0.045455  \n",
       "2       0.075758  \n",
       "3       0.606061  \n",
       "4       0.219697  \n",
       "...          ...  \n",
       "394418  0.076923  \n",
       "394419  0.190476  \n",
       "394420  0.142857  \n",
       "394421  0.285714  \n",
       "394422  0.380952  \n",
       "\n",
       "[394423 rows x 8 columns]"
      ]
     },
     "execution_count": 74,
     "metadata": {},
     "output_type": "execute_result"
    }
   ],
   "source": [
    "test_reco"
   ]
  },
  {
   "cell_type": "code",
   "execution_count": null,
   "metadata": {},
   "outputs": [],
   "source": []
  },
  {
   "cell_type": "markdown",
   "metadata": {},
   "source": [
    "* evaluate model performance"
   ]
  },
  {
   "cell_type": "code",
   "execution_count": 69,
   "metadata": {},
   "outputs": [
    {
     "data": {
      "text/plain": [
       "{'col_user': 'FAKE_CANO',\n",
       " 'col_item': 'CATEGORY',\n",
       " 'col_rating': 'Rating',\n",
       " 'col_timestamp': None,\n",
       " 'col_prediction': 'Prediction'}"
      ]
     },
     "execution_count": 69,
     "metadata": {},
     "output_type": "execute_result"
    }
   ],
   "source": [
    "header"
   ]
  },
  {
   "cell_type": "code",
   "execution_count": 71,
   "metadata": {},
   "outputs": [],
   "source": [
    "# all ranking metrics have the same arguments\n",
    "args = [test_reco, top_k]\n",
    "kwargs = dict(col_user=header['col_user'], \n",
    "              col_item=header['col_item'], \n",
    "              col_rating=header['col_rating'] ,\n",
    "              col_prediction=header['col_prediction'] ,\n",
    "              relevancy_method='top_k', \n",
    "              k=TOP_K)\n",
    "\n",
    "eval_map = map_at_k(*args, **kwargs)\n",
    "eval_ndcg = ndcg_at_k(*args, **kwargs)\n",
    "eval_precision = precision_at_k(*args, **kwargs)\n",
    "eval_recall = recall_at_k(*args, **kwargs)"
   ]
  },
  {
   "cell_type": "code",
   "execution_count": 72,
   "metadata": {},
   "outputs": [
    {
     "name": "stdout",
     "output_type": "stream",
     "text": [
      "Model:\n",
      "Top K:\t\t 5\n",
      "MAP:\t\t 0.891466\n",
      "NDCG:\t\t 0.933454\n",
      "Precision@K:\t 0.764670\n",
      "Recall@K:\t 0.907229\n"
     ]
    }
   ],
   "source": [
    "print(f\"Model:\",\n",
    "      f\"Top K:\\t\\t {TOP_K}\",\n",
    "      f\"MAP:\\t\\t {eval_map:f}\",\n",
    "      f\"NDCG:\\t\\t {eval_ndcg:f}\",\n",
    "      f\"Precision@K:\\t {eval_precision:f}\",\n",
    "      f\"Recall@K:\\t {eval_recall:f}\", sep='\\n')"
   ]
  },
  {
   "cell_type": "code",
   "execution_count": null,
   "metadata": {},
   "outputs": [],
   "source": []
  },
  {
   "cell_type": "markdown",
   "metadata": {},
   "source": [
    "* check log_loss"
   ]
  },
  {
   "cell_type": "code",
   "execution_count": 19,
   "metadata": {},
   "outputs": [],
   "source": [
    "test_log = test\n",
    "test_log['Rating'] = 1\n",
    "\n",
    "args_log = [test_log, top_k]\n",
    "kwargs_log = dict(col_user=header['col_user'], \n",
    "              col_item=header['col_item'], \n",
    "              col_rating=header['col_rating'] ,\n",
    "              col_prediction=header['col_prediction'])"
   ]
  },
  {
   "cell_type": "code",
   "execution_count": null,
   "metadata": {
    "tags": []
   },
   "outputs": [],
   "source": [
    "logloss(*args_log, **kwargs_log)"
   ]
  }
 ],
 "metadata": {
  "kernelspec": {
   "display_name": "Python 3 (ipykernel)",
   "language": "python",
   "name": "python3"
  },
  "language_info": {
   "codemirror_mode": {
    "name": "ipython",
    "version": 3
   },
   "file_extension": ".py",
   "mimetype": "text/x-python",
   "name": "python",
   "nbconvert_exporter": "python",
   "pygments_lexer": "ipython3",
   "version": "3.9.13"
  }
 },
 "nbformat": 4,
 "nbformat_minor": 4
}
